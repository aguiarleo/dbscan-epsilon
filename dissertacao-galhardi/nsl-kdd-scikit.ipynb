{
 "cells": [
  {
   "cell_type": "code",
   "execution_count": 43,
   "metadata": {
    "collapsed": true
   },
   "outputs": [],
   "source": [
    "%matplotlib inline\n",
    "\n",
    "import matplotlib\n",
    "matplotlib.style.use('seaborn-whitegrid')\n",
    "\n",
    "import pandas as pd\n",
    "import numpy as np\n",
    "import matplotlib.pyplot as plt\n",
    "import warnings\n",
    "\n",
    "from sklearn.cluster import MiniBatchKMeans,KMeans, AgglomerativeClustering, DBSCAN\n",
    "from scipy.spatial.distance import cdist,euclidean\n",
    "from sklearn.preprocessing import normalize, StandardScaler,MinMaxScaler\n",
    "from sklearn.metrics.pairwise import euclidean_distances\n",
    "from sklearn.decomposition import PCA\n",
    "\n",
    "from sklearn import svm\n",
    "\n"
   ]
  },
  {
   "cell_type": "code",
   "execution_count": 2,
   "metadata": {},
   "outputs": [
    {
     "name": "stdout",
     "output_type": "stream",
     "text": [
      "['seaborn-paper', 'seaborn-notebook', 'seaborn-deep', 'bmh', 'seaborn-poster', 'seaborn-darkgrid', 'seaborn-pastel', 'seaborn-dark', 'ggplot', 'seaborn-dark-palette', 'fivethirtyeight', 'grayscale', 'seaborn-colorblind', 'seaborn-whitegrid', 'dark_background', 'seaborn-white', 'seaborn-ticks', 'seaborn-bright', 'classic', 'seaborn-talk', 'seaborn-muted']\n"
     ]
    }
   ],
   "source": [
    "print(plt.style.available)"
   ]
  },
  {
   "cell_type": "code",
   "execution_count": 3,
   "metadata": {
    "collapsed": true
   },
   "outputs": [],
   "source": [
    "warnings.filterwarnings(\"ignore\")\n",
    "pd.set_option(\"display.max_rows\", 999)\n"
   ]
  },
  {
   "cell_type": "code",
   "execution_count": 4,
   "metadata": {
    "collapsed": true
   },
   "outputs": [],
   "source": [
    "pd.reset_option(\"display.max_rows\")"
   ]
  },
  {
   "cell_type": "code",
   "execution_count": 5,
   "metadata": {
    "collapsed": true
   },
   "outputs": [],
   "source": [
    "columns = [\"duration\",\"protocol_type\",\"service\",\"flag\",\"src_bytes\",\"dst_bytes\",\"land\",\"wrong_fragment\",\"urgent\",\"hot\",\"num_failed_logins\",\"logged_in\",\"num_compromised\",\"root_shell\",\"su_attempted\",\"num_root\",\"num_file_creations\",\"num_shells\",\"num_access_files\",\"num_outbound_cmds\",\"is_host_login\",\"is_guest_login\",\"count\",\"srv_count\",\"serror_rate\",\"srv_serror_rate\",\"rerror_rate\",\"srv_rerror_rate\",\"same_srv_rate\",\"diff_srv_rate\",\"srv_diff_host_rate\",\"dst_host_count\",\"dst_host_srv_count\",\"dst_host_same_srv_rate\",\"dst_host_diff_srv_rate\",\"dst_host_same_src_port_rate\",\"dst_host_srv_diff_host_rate\",\"dst_host_serror_rate\",\"dst_host_srv_serror_rate\",\"dst_host_rerror_rate\",\"dst_host_srv_rerror_rate\",\"label\",\"difficulty\"]"
   ]
  },
  {
   "cell_type": "code",
   "execution_count": 6,
   "metadata": {
    "collapsed": true
   },
   "outputs": [],
   "source": [
    "attacks = [\"back\",\n",
    "\"buffer_overflow\",\n",
    "\"ftp_write\",\n",
    "\"guess_passwd\",\n",
    "\"imap\",\n",
    "\"ipsweep\",\n",
    "\"land\",\n",
    "\"loadmodule\",\n",
    "\"multihop\",\n",
    "\"neptune\",\n",
    "\"nmap\",\n",
    "\"perl\",\n",
    "\"phf\",\n",
    "\"pod\",\n",
    "\"portsweep\",\n",
    "\"rootkit\",\n",
    "\"satan\",\n",
    "\"smurf\",\n",
    "\"spy\",\n",
    "\"teardrop\",\n",
    "\"warezclient\",\n",
    "\"warezmaster\"]\n",
    "\n",
    "types = [\"dos\",\n",
    "\"u2r\",\n",
    "\"r2l\",\n",
    "\"r2l\",\n",
    "\"r2l\",\n",
    "\"probe\",\n",
    "\"dos\",\n",
    "\"u2r\",\n",
    "\"r2l\",\n",
    "\"dos\",\n",
    "\"probe\",\n",
    "\"u2r\",\n",
    "\"r2l\",\n",
    "\"dos\",\n",
    "\"probe\",\n",
    "\"u2r\",\n",
    "\"probe\",\n",
    "\"dos\",\n",
    "\"r2l\",\n",
    "\"dos\",\n",
    "\"r2l\",\n",
    "\"r2l\"]\n",
    "\n",
    "dic_attacks = {\"label\":attacks,\"type\":types}\n",
    "\n",
    "attack_typesDF = pd.DataFrame(dic_attacks, columns=[\"label\",\"type\"])"
   ]
  },
  {
   "cell_type": "code",
   "execution_count": 7,
   "metadata": {},
   "outputs": [
    {
     "name": "stdout",
     "output_type": "stream",
     "text": [
      "['duration' 'src_bytes' 'dst_bytes' 'wrong_fragment' 'urgent' 'hot'\n",
      " 'num_failed_logins' 'num_compromised' 'root_shell' 'su_attempted'\n",
      " 'num_root' 'num_file_creations' 'num_shells' 'num_access_files'\n",
      " 'num_outbound_cmds' 'count' 'srv_count' 'serror_rate' 'srv_serror_rate'\n",
      " 'rerror_rate' 'srv_rerror_rate' 'same_srv_rate' 'diff_srv_rate'\n",
      " 'srv_diff_host_rate' 'dst_host_count' 'dst_host_srv_count'\n",
      " 'dst_host_same_srv_rate' 'dst_host_diff_srv_rate'\n",
      " 'dst_host_same_src_port_rate' 'dst_host_srv_diff_host_rate'\n",
      " 'dst_host_serror_rate' 'dst_host_srv_serror_rate' 'dst_host_rerror_rate'\n",
      " 'dst_host_srv_rerror_rate']\n",
      "['duration' 'dst_bytes' 'logged_in' 'su_attempted' 'num_root'\n",
      " 'num_file_creations' 'num_shells' 'num_access_files' 'srv_diff_host_rate'\n",
      " 'dst_host_count' 'dst_host_srv_diff_host_rate']\n",
      "['duration', 'src_bytes', 'dst_bytes', 'count', 'srv_count', 'serror_rate', 'srv_serror_rate', 'rerror_rate', 'srv_rerror_rate', 'same_srv_rate', 'diff_srv_rate', 'srv_diff_host_rate', 'dst_host_same_srv_rate', 'dst_host_diff_srv_rate', 'dst_host_same_src_port_rate', 'dst_host_serror_rate', 'dst_host_srv_serror_rate', 'dst_host_rerror_rate', 'dst_host_srv_rerror_rate']\n"
     ]
    }
   ],
   "source": [
    "features = [\"duration\",\n",
    "\"protocol_type\",\n",
    "\"service\",\n",
    "\"flag\",\n",
    "\"src_bytes\",\n",
    "\"dst_bytes\",\n",
    "\"land\",\n",
    "\"wrong_fragment\",\n",
    "\"urgent\",\n",
    "\"hot\",\n",
    "\"num_failed_logins\",\n",
    "\"logged_in\",\n",
    "\"num_compromised\",\n",
    "\"root_shell\",\n",
    "\"su_attempted\",\n",
    "\"num_root\",\n",
    "\"num_file_creations\",\n",
    "\"num_shells\",\n",
    "\"num_access_files\",\n",
    "\"num_outbound_cmds\",\n",
    "\"is_host_login\",\n",
    "\"is_guest_login\",\n",
    "\"count\",\n",
    "\"srv_count\",\n",
    "\"serror_rate\",\n",
    "\"srv_serror_rate\",\n",
    "\"rerror_rate\",\n",
    "\"srv_rerror_rate\",\n",
    "\"same_srv_rate\",\n",
    "\"diff_srv_rate\",\n",
    "\"srv_diff_host_rate\",\n",
    "\"dst_host_count\",\n",
    "\"dst_host_srv_count\",\n",
    "\"dst_host_same_srv_rate\",\n",
    "\"dst_host_diff_srv_rate\",\n",
    "\"dst_host_same_src_port_rate\",\n",
    "\"dst_host_srv_diff_host_rate\",\n",
    "\"dst_host_serror_rate\",\n",
    "\"dst_host_srv_serror_rate\",\n",
    "\"dst_host_rerror_rate\",\n",
    "\"dst_host_srv_rerror_rate\",\n",
    "\"label\"]\n",
    "\n",
    "types = [\"continuous.\",\n",
    "\"symbolic.\",\n",
    "\"symbolic.\",\n",
    "\"symbolic.\",\n",
    "\"continuous.\",\n",
    "\"continuous.\",\n",
    "\"symbolic.\",\n",
    "\"continuous.\",\n",
    "\"continuous.\",\n",
    "\"continuous.\",\n",
    "\"continuous.\",\n",
    "\"symbolic.\",\n",
    "\"continuous.\",\n",
    "\"continuous.\",\n",
    "\"continuous.\",\n",
    "\"continuous.\",\n",
    "\"continuous.\",\n",
    "\"continuous.\",\n",
    "\"continuous.\",\n",
    "\"continuous.\",\n",
    "\"symbolic.\",\n",
    "\"symbolic.\",\n",
    "\"continuous.\",\n",
    "\"continuous.\",\n",
    "\"continuous.\",\n",
    "\"continuous.\",\n",
    "\"continuous.\",\n",
    "\"continuous.\",\n",
    "\"continuous.\",\n",
    "\"continuous.\",\n",
    "\"continuous.\",\n",
    "\"continuous.\",\n",
    "\"continuous.\",\n",
    "\"continuous.\",\n",
    "\"continuous.\",\n",
    "\"continuous.\",\n",
    "\"continuous.\",\n",
    "\"continuous.\",\n",
    "\"continuous.\",\n",
    "\"continuous.\",\n",
    "\"continuous.\",\n",
    "\"symbolic.\"]\n",
    "\n",
    "\n",
    "indicesf = []\n",
    "\n",
    "for i in range(0, len(types)):\n",
    "    if types[i] == \"continuous.\":\n",
    "        indicesf.append(i)\n",
    "\n",
    "numerical_features = np.take(features,indicesf)\n",
    "\n",
    "indicesf = [0,5,11,14,15,16,17,18,30,31,36]\n",
    "\n",
    "normal_relevant_features =  np.take(features,indicesf)\n",
    "\n",
    "print (numerical_features)\n",
    "print (normal_relevant_features)\n",
    "\n",
    "escolhidas = [\n",
    "\"duration\",\n",
    "\"src_bytes\",\n",
    "\"dst_bytes\",\n",
    "\"count\",\n",
    "\"srv_count\",\n",
    "\"serror_rate\",\n",
    "\"srv_serror_rate\",\n",
    "\"rerror_rate\",\n",
    "\"srv_rerror_rate\",\n",
    "\"same_srv_rate\",\n",
    "\"diff_srv_rate\",\n",
    "\"srv_diff_host_rate\",\n",
    "\"dst_host_same_srv_rate\",\n",
    "\"dst_host_diff_srv_rate\",\n",
    "\"dst_host_same_src_port_rate\",\n",
    "\"dst_host_serror_rate\",\n",
    "\"dst_host_srv_serror_rate\",\n",
    "\"dst_host_rerror_rate\",\n",
    "\"dst_host_srv_rerror_rate\"]\n",
    "\n",
    "print (escolhidas)"
   ]
  },
  {
   "cell_type": "code",
   "execution_count": null,
   "metadata": {
    "collapsed": true
   },
   "outputs": [],
   "source": []
  },
  {
   "cell_type": "code",
   "execution_count": 8,
   "metadata": {
    "collapsed": true
   },
   "outputs": [],
   "source": [
    "nslTrain = pd.read_csv(filepath_or_buffer='./dados/nsl-kdd/KDDTrain+.txt', \\\n",
    "                 names=columns, header=None)"
   ]
  },
  {
   "cell_type": "code",
   "execution_count": 9,
   "metadata": {},
   "outputs": [
    {
     "name": "stdout",
     "output_type": "stream",
     "text": [
      "<class 'pandas.core.frame.DataFrame'>\n",
      "RangeIndex: 125973 entries, 0 to 125972\n",
      "Data columns (total 43 columns):\n",
      "duration                       125973 non-null int64\n",
      "protocol_type                  125973 non-null object\n",
      "service                        125973 non-null object\n",
      "flag                           125973 non-null object\n",
      "src_bytes                      125973 non-null int64\n",
      "dst_bytes                      125973 non-null int64\n",
      "land                           125973 non-null int64\n",
      "wrong_fragment                 125973 non-null int64\n",
      "urgent                         125973 non-null int64\n",
      "hot                            125973 non-null int64\n",
      "num_failed_logins              125973 non-null int64\n",
      "logged_in                      125973 non-null int64\n",
      "num_compromised                125973 non-null int64\n",
      "root_shell                     125973 non-null int64\n",
      "su_attempted                   125973 non-null int64\n",
      "num_root                       125973 non-null int64\n",
      "num_file_creations             125973 non-null int64\n",
      "num_shells                     125973 non-null int64\n",
      "num_access_files               125973 non-null int64\n",
      "num_outbound_cmds              125973 non-null int64\n",
      "is_host_login                  125973 non-null int64\n",
      "is_guest_login                 125973 non-null int64\n",
      "count                          125973 non-null int64\n",
      "srv_count                      125973 non-null int64\n",
      "serror_rate                    125973 non-null float64\n",
      "srv_serror_rate                125973 non-null float64\n",
      "rerror_rate                    125973 non-null float64\n",
      "srv_rerror_rate                125973 non-null float64\n",
      "same_srv_rate                  125973 non-null float64\n",
      "diff_srv_rate                  125973 non-null float64\n",
      "srv_diff_host_rate             125973 non-null float64\n",
      "dst_host_count                 125973 non-null int64\n",
      "dst_host_srv_count             125973 non-null int64\n",
      "dst_host_same_srv_rate         125973 non-null float64\n",
      "dst_host_diff_srv_rate         125973 non-null float64\n",
      "dst_host_same_src_port_rate    125973 non-null float64\n",
      "dst_host_srv_diff_host_rate    125973 non-null float64\n",
      "dst_host_serror_rate           125973 non-null float64\n",
      "dst_host_srv_serror_rate       125973 non-null float64\n",
      "dst_host_rerror_rate           125973 non-null float64\n",
      "dst_host_srv_rerror_rate       125973 non-null float64\n",
      "label                          125973 non-null object\n",
      "difficulty                     125973 non-null int64\n",
      "dtypes: float64(15), int64(24), object(4)\n",
      "memory usage: 41.3+ MB\n"
     ]
    }
   ],
   "source": [
    "nslTrain.info()"
   ]
  },
  {
   "cell_type": "code",
   "execution_count": 10,
   "metadata": {},
   "outputs": [],
   "source": [
    "#for chunk in reader:\n",
    "#    chunk.info()\n",
    "\n",
    "\n",
    "## Teste 1 chunk\n",
    "#chunk = reader.get_chunk(chunk_size)"
   ]
  },
  {
   "cell_type": "code",
   "execution_count": 11,
   "metadata": {},
   "outputs": [
    {
     "name": "stdout",
     "output_type": "stream",
     "text": [
      "Total de tráfego normal: 67343\n",
      "Total de ataques: 58630\n",
      "Quantidade de ataques utilizados: 8000\n"
     ]
    }
   ],
   "source": [
    "nslTrain = pd.merge(nslTrain,attack_typesDF,how='left',on='label')\n",
    "nslTrain = nslTrain.fillna('normal')\n",
    "\n",
    "attack_indices = nslTrain[nslTrain.label != 'normal'].index\n",
    "total_normal = len(nslTrain[nslTrain.label == 'normal'])\n",
    "\n",
    "\n",
    "print('Total de tráfego normal:', total_normal)\n",
    "print('Total de ataques:',len(attack_indices))\n",
    "\n",
    "remove_n = len(attack_indices) - 8000\n",
    "print('Quantidade de ataques utilizados:',len(attack_indices) - remove_n)\n",
    "#print(remove_n)\n",
    "drop_indices = np.random.choice(attack_indices, remove_n, replace=False)\n",
    "\n",
    "# NSL KDD dataset with only 10% of attacks\n",
    "nsl10Train = nslTrain.drop(drop_indices)\n",
    "\n",
    "total = 20000"
   ]
  },
  {
   "cell_type": "code",
   "execution_count": 12,
   "metadata": {
    "collapsed": true
   },
   "outputs": [],
   "source": [
    "def label_class(row):\n",
    "    if row.label == 'normal':\n",
    "        return 'normal'\n",
    "    else:\n",
    "        return 'normal'\n",
    "    \n",
    "nsl10Train['class'] = nsl10Train.apply(lambda row: label_class (row), axis=1)"
   ]
  },
  {
   "cell_type": "code",
   "execution_count": 13,
   "metadata": {},
   "outputs": [
    {
     "name": "stdout",
     "output_type": "stream",
     "text": [
      "<class 'pandas.core.frame.DataFrame'>\n",
      "Int64Index: 75343 entries, 0 to 125972\n",
      "Data columns (total 45 columns):\n",
      "duration                       75343 non-null int64\n",
      "protocol_type                  75343 non-null object\n",
      "service                        75343 non-null object\n",
      "flag                           75343 non-null object\n",
      "src_bytes                      75343 non-null int64\n",
      "dst_bytes                      75343 non-null int64\n",
      "land                           75343 non-null int64\n",
      "wrong_fragment                 75343 non-null int64\n",
      "urgent                         75343 non-null int64\n",
      "hot                            75343 non-null int64\n",
      "num_failed_logins              75343 non-null int64\n",
      "logged_in                      75343 non-null int64\n",
      "num_compromised                75343 non-null int64\n",
      "root_shell                     75343 non-null int64\n",
      "su_attempted                   75343 non-null int64\n",
      "num_root                       75343 non-null int64\n",
      "num_file_creations             75343 non-null int64\n",
      "num_shells                     75343 non-null int64\n",
      "num_access_files               75343 non-null int64\n",
      "num_outbound_cmds              75343 non-null int64\n",
      "is_host_login                  75343 non-null int64\n",
      "is_guest_login                 75343 non-null int64\n",
      "count                          75343 non-null int64\n",
      "srv_count                      75343 non-null int64\n",
      "serror_rate                    75343 non-null float64\n",
      "srv_serror_rate                75343 non-null float64\n",
      "rerror_rate                    75343 non-null float64\n",
      "srv_rerror_rate                75343 non-null float64\n",
      "same_srv_rate                  75343 non-null float64\n",
      "diff_srv_rate                  75343 non-null float64\n",
      "srv_diff_host_rate             75343 non-null float64\n",
      "dst_host_count                 75343 non-null int64\n",
      "dst_host_srv_count             75343 non-null int64\n",
      "dst_host_same_srv_rate         75343 non-null float64\n",
      "dst_host_diff_srv_rate         75343 non-null float64\n",
      "dst_host_same_src_port_rate    75343 non-null float64\n",
      "dst_host_srv_diff_host_rate    75343 non-null float64\n",
      "dst_host_serror_rate           75343 non-null float64\n",
      "dst_host_srv_serror_rate       75343 non-null float64\n",
      "dst_host_rerror_rate           75343 non-null float64\n",
      "dst_host_srv_rerror_rate       75343 non-null float64\n",
      "label                          75343 non-null object\n",
      "difficulty                     75343 non-null int64\n",
      "type                           75343 non-null object\n",
      "class                          75343 non-null object\n",
      "dtypes: float64(15), int64(24), object(6)\n",
      "memory usage: 26.4+ MB\n"
     ]
    }
   ],
   "source": [
    "nsl10Train.info()"
   ]
  },
  {
   "cell_type": "code",
   "execution_count": 14,
   "metadata": {},
   "outputs": [],
   "source": [
    "nsl10Train.to_csv('./dados/KDDTrain+10att.csv',index=False)\n"
   ]
  },
  {
   "cell_type": "code",
   "execution_count": 15,
   "metadata": {
    "collapsed": true
   },
   "outputs": [],
   "source": [
    "nsl10k = nsl10Train.sample(n=10000,random_state=10)"
   ]
  },
  {
   "cell_type": "code",
   "execution_count": 16,
   "metadata": {},
   "outputs": [],
   "source": [
    "nsl10k = nsl10k.reset_index()"
   ]
  },
  {
   "cell_type": "code",
   "execution_count": 17,
   "metadata": {
    "collapsed": true
   },
   "outputs": [],
   "source": [
    "nsl10k.to_csv('./dados/KDDTrain10k.csv',index=False)"
   ]
  },
  {
   "cell_type": "code",
   "execution_count": null,
   "metadata": {
    "collapsed": true
   },
   "outputs": [],
   "source": []
  },
  {
   "cell_type": "code",
   "execution_count": 18,
   "metadata": {
    "collapsed": true
   },
   "outputs": [],
   "source": [
    "nsl30k = nsl10Train.sample(n=30000,random_state=10)"
   ]
  },
  {
   "cell_type": "code",
   "execution_count": 19,
   "metadata": {
    "collapsed": true
   },
   "outputs": [],
   "source": [
    "nsl50k = nsl10Train.sample(n=50000,random_state=10)"
   ]
  },
  {
   "cell_type": "code",
   "execution_count": 20,
   "metadata": {
    "collapsed": true
   },
   "outputs": [],
   "source": [
    "nsl70k = nsl10Train.sample(n=70000,random_state=10)"
   ]
  },
  {
   "cell_type": "code",
   "execution_count": 21,
   "metadata": {},
   "outputs": [
    {
     "name": "stdout",
     "output_type": "stream",
     "text": [
      "20000\n"
     ]
    }
   ],
   "source": [
    "total = 20000\n",
    "#total = len(nsl10Train)\n",
    "print(total)"
   ]
  },
  {
   "cell_type": "code",
   "execution_count": 22,
   "metadata": {},
   "outputs": [
    {
     "data": {
      "text/plain": [
       "array(['normal', 'dos', 'r2l', 'probe', 'u2r'], dtype=object)"
      ]
     },
     "execution_count": 22,
     "metadata": {},
     "output_type": "execute_result"
    }
   ],
   "source": [
    "nslTrain['type'].unique()"
   ]
  },
  {
   "cell_type": "code",
   "execution_count": 23,
   "metadata": {},
   "outputs": [
    {
     "data": {
      "text/plain": [
       "<matplotlib.axes._subplots.AxesSubplot at 0x7f4fbdbd8e10>"
      ]
     },
     "execution_count": 23,
     "metadata": {},
     "output_type": "execute_result"
    },
    {
     "data": {
      "image/png": "[encoded data removed]",
      "text/plain": [
       "<matplotlib.figure.Figure at 0x7f4fbd7964e0>"
      ]
     },
     "metadata": {},
     "output_type": "display_data"
    }
   ],
   "source": [
    "#chunk = chunk[chunk.label != 'neptune']\n",
    "grouped_label = nsl10Train.groupby('label')\n",
    "grouped_label['label'].count().plot.pie(figsize=(6, 6))"
   ]
  },
  {
   "cell_type": "code",
   "execution_count": 24,
   "metadata": {},
   "outputs": [],
   "source": [
    "grouped_label = nsl10Train.groupby('label')"
   ]
  },
  {
   "cell_type": "code",
   "execution_count": 25,
   "metadata": {},
   "outputs": [
    {
     "data": {
      "text/plain": [
       "MinMaxScaler(copy=True, feature_range=(0, 1))"
      ]
     },
     "execution_count": 25,
     "metadata": {},
     "output_type": "execute_result"
    }
   ],
   "source": [
    "std_scaler = StandardScaler()\n",
    "std_scaler.fit(nsl10Train[numerical_features])\n",
    "\n",
    "minmax_scaler = MinMaxScaler()\n",
    "minmax_scaler.fit(nsl10Train[numerical_features])"
   ]
  },
  {
   "cell_type": "code",
   "execution_count": null,
   "metadata": {},
   "outputs": [],
   "source": []
  },
  {
   "cell_type": "code",
   "execution_count": 26,
   "metadata": {},
   "outputs": [],
   "source": [
    "#sub = chunk[escolhidas]\n",
    "#sub = chunk[normal_relevant_features]"
   ]
  },
  {
   "cell_type": "code",
   "execution_count": 27,
   "metadata": {
    "collapsed": true
   },
   "outputs": [],
   "source": [
    "#proto_dummies = pd.get_dummies(sub[\"protocol_type\"], prefix='protocol_type')\n",
    "#service_dummies = pd.get_dummies(sub['service'], prefix='service')\n",
    "#flag_dummies = pd.get_dummies(sub['flag'], prefix='flag')"
   ]
  },
  {
   "cell_type": "code",
   "execution_count": 28,
   "metadata": {},
   "outputs": [],
   "source": [
    "#subDF = pd.concat([sub,proto_dummies,service_dummies,flag_dummies], axis=1)\n",
    "#subDF = subDF.drop(['protocol_type','service','flag'], axis=1)\n"
   ]
  },
  {
   "cell_type": "code",
   "execution_count": 29,
   "metadata": {
    "collapsed": true
   },
   "outputs": [],
   "source": [
    "def plot_PCA(X, dblabels, chunk_labels):   \n",
    "    pca_2 = PCA(2)\n",
    "\n",
    "    plot_columns = pca_2.fit_transform(X)\n",
    "\n",
    "    plt.figure(figsize=(20,20))\n",
    "\n",
    "    plt.scatter(x=plot_columns[:,0], y=plot_columns[:,1], c=dblabels)\n",
    "\n",
    "\n",
    "    for lb, x, y in zip(chunk_labels, plot_columns[:,0],plot_columns[:,1]):\n",
    "        plt.annotate(\n",
    "            lb,\n",
    "            xy = (x,y), xytext = (-20, 20),\n",
    "            textcoords = 'offset points', ha = 'right', va = 'bottom',\n",
    "            bbox = dict(boxstyle = 'round,pad=0.5', fc = 'yellow', alpha = 0.5),\n",
    "            arrowprops = dict(arrowstyle = '->', connectionstyle = 'arc3,rad=0',facecolor='black'))\n",
    "\n",
    "    plt.show()"
   ]
  },
  {
   "cell_type": "code",
   "execution_count": 30,
   "metadata": {
    "collapsed": true
   },
   "outputs": [],
   "source": [
    "import numpy as np\n",
    "\n",
    "def fK(k, X, Skm1=0):\n",
    "    \"\"\"\n",
    "    Computes f(K) proposed by Pham et al. 2004\n",
    "    \n",
    "    \"\"\"\n",
    "    d = len(X[0])\n",
    "    \n",
    "    a = lambda k, d: 1.0 - 3.0 / (4.0*d) if k == 2 \\\n",
    "        else a(k-1, d) + (1.0-a(k-1,d))/6.0\n",
    "    \n",
    "    estimator = MiniBatchKMeans(n_clusters=k, random_state=10, \n",
    "                                init='k-means++')\n",
    "    estimator.fit_predict(X)\n",
    "    Sk = estimator.inertia_\n",
    "        \n",
    "    if k == 1:\n",
    "        f = 1\n",
    "    if Skm1 == 0:\n",
    "        f = 1\n",
    "    else:\n",
    "        f = Sk/(a(k,d)*Skm1)  \n",
    "    \n",
    "    return f, Sk\n",
    "\n",
    "\n",
    "def testfK(maxk, X):\n",
    "    ks = range(1,maxk+1)\n",
    "    fs = np.zeros(len(ks))\n",
    "\n",
    "    k = 1\n",
    "\n",
    "    fs[0], Sk = fK(1, X)\n",
    "    print ((\"# K: {}\\tFS:{}\\tSk:{}\").format(k,fs[k-1], Sk))\n",
    "\n",
    "\n",
    "    # Rest of Ks\n",
    "    for k in ks[1:]:\n",
    "        fs[k-1], Sk = fK(k, X, Skm1=Sk)\n",
    "        print ((\"# K: {}\\tFS:{}\\tSk:{}\").format(k,fs[k-1], Sk))\n",
    "\n",
    "    foundfK = np.where(fs == fs.min())[0][0] + 1\n",
    "    print (foundfK)\n",
    "\n",
    "def testMeandist(maxk,X):\n",
    "    meandist = []\n",
    "\n",
    "    clusters = range(1,maxk)\n",
    "\n",
    "    for n_clusters in clusters:\n",
    "        clusterer = MiniBatchKMeans(n_clusters=n_clusters, random_state=10, init='k-means++')\n",
    "        clusassign = clusterer.fit_predict(X)\n",
    "        meandist.append(sum(np.min(cdist(X, clusterer.cluster_centers_,'euclidean'), axis=1)) / X.shape[0])\n",
    "    #    print(\"# {}: {}\")\\\n",
    "    #        .format(n_clusters, meandist[n_clusters-1])  \n",
    "\n",
    "    fig = plt.figure()\n",
    "    \n",
    "    plt.xlabel('Number of clusters')\n",
    "    plt.ylabel('Average distance')\n",
    "    plt.title('Selecting K with the Elbow Method')\n",
    "    plt.plot(clusters, meandist)\n",
    "    \n",
    "def testInertia(maxk,X):\n",
    "    \n",
    "    inertia = []\n",
    "    \n",
    "    for k in range (1,maxk+1):\n",
    "        k_means = MiniBatchKMeans(n_clusters=k, random_state=10, init='k-means++')\n",
    "        k_means.fit(X)\n",
    "        inertia.append(k_means.inertia_)\n",
    "        \n",
    "    ax = plt.subplot(111)\n",
    "    ax.plot(inertia, '-o')\n",
    "    plt.xticks(range(1,maxk))\n",
    "    plt.title(\"Inertia\")\n",
    "    ax.set_ylabel('Inertia')\n",
    "    ax.set_xlabel('# Clusters')\n",
    "    plt.show() "
   ]
  },
  {
   "cell_type": "code",
   "execution_count": null,
   "metadata": {
    "scrolled": true
   },
   "outputs": [],
   "source": []
  },
  {
   "cell_type": "code",
   "execution_count": null,
   "metadata": {
    "scrolled": true
   },
   "outputs": [],
   "source": []
  },
  {
   "cell_type": "code",
   "execution_count": null,
   "metadata": {
    "collapsed": true
   },
   "outputs": [],
   "source": []
  },
  {
   "cell_type": "code",
   "execution_count": 31,
   "metadata": {},
   "outputs": [],
   "source": [
    "def euclidean_dist_calc(X, y, cluster_centers_):\n",
    "    \n",
    "    c_indices = []\n",
    "    \n",
    "    n_clusters = len(cluster_centers_)\n",
    "\n",
    "\n",
    "    for i in range(0,n_clusters):\n",
    "        c_indices.append(np.where(y == i)[0])\n",
    "           \n",
    "    euclidian_dist = np.empty(len(X))\n",
    "    euclidian_dist.fill(np.nan)\n",
    "    \n",
    "    for k in range(0, n_clusters):\n",
    "    \n",
    "        for i in c_indices[k]:\n",
    "            euclidian_dist[i] = euclidean(X[i], cluster_centers_[k]) \n",
    "            \n",
    "    return euclidian_dist\n",
    "\n",
    "\n",
    "\n",
    "def threshold_error (v, w, tau):\n",
    "    \"\"\"\n",
    "    Recebe um elemento de dado (v) e calcula seu TEV em relação\n",
    "    ao centróide (w) de acordo com um limiar tau.\n",
    "    \n",
    "    Retorna uma tupla com o TEV e o TEQ\n",
    "    \"\"\"\n",
    "\n",
    "    #print(v)\n",
    "    #print(w)\n",
    "    \n",
    "    \n",
    "    #se algum dos vetores de data_list tiver dimensão diferente da de center, o programa finaliza\n",
    "    if (len(v) != len(w)) | (v.ndim != w.ndim):\n",
    "\n",
    "        print (\"Data_list and center have diffent numbers of elements!\")\n",
    "        return 0\n",
    "\n",
    "    tev = 0\n",
    "    teq = 0\n",
    "    \n",
    "    qe = abs(w - v) #diff armazena um vetor com o módulo da diferença entre os elementos de w e v\n",
    "    \n",
    "    #print(qe)\n",
    "    \n",
    "    for i in range (len(qe)):\n",
    "        teq = teq + qe[i]\n",
    "        if (qe[i] > tau):\n",
    "            tev = tev + qe[i]\n",
    "        \n",
    "    #print (\"The threshold error value for QE =\", qe, \"is\", tev, \"and TEQ is\",teq)\n",
    "    \n",
    "    return (tev,teq)\n",
    "        \n",
    "        \n",
    "a = np.array([1, 2])\n",
    "b = np.array([2,4])\n",
    "w = np.array([17, 18])\n",
    "\n",
    "threshold_error(a, w, 14)\n",
    "threshold_error(b, w, 14)\n",
    "\n",
    "def update_W (v, w, n, m, alpha):\n",
    "\n",
    "    #se algum dos vetores de data_list tiver dimensão diferente da de center, o programa finaliza\n",
    "    if (v.ndim != w.ndim):\n",
    "        print (\"Data_list and center have diffent numbers of elements!\")\n",
    "        return 0\n",
    "\n",
    "    #m = len(v)\n",
    "    \n",
    "    x = v\n",
    "    \n",
    "    w = (w * n * alpha + x*m)/(n * alpha + m)\n",
    "    \n",
    "    #diff = w - v #diff armazena um vetor com a diferença entre os elementos de w e v\n",
    "    #print(diff)\n",
    "    #for i in range (len(diff)):\n",
    "    #    w = alpha*w +  diff[i]\n",
    "    return (w)\n",
    "\n",
    "a = np.array([[1,2], [3,4], [5,6]])\n",
    "b = np.array([5, 6])\n",
    "\n",
    "update_W (a.mean(axis=0), b, 3, len(a), 0.1)\n",
    "\n",
    "def tev_teq (v,centers,tau, model):\n",
    "    result = []\n",
    "    \n",
    "    for i in range(len(v)):\n",
    "        result.append(threshold_error(v[i],model.cluster_centers_[centers[i]],tau))\n",
    "        \n",
    "    return result"
   ]
  },
  {
   "cell_type": "code",
   "execution_count": 32,
   "metadata": {
    "collapsed": true
   },
   "outputs": [],
   "source": [
    "#labels = nsl10Train['label'].values\n",
    "#subDF = nsl10Train[numerical_features]\n",
    "#cols = subDF.columns.tolist()\n",
    "\n",
    "#X = std_scaler.transform(subDF)"
   ]
  },
  {
   "cell_type": "code",
   "execution_count": 33,
   "metadata": {
    "collapsed": true
   },
   "outputs": [],
   "source": [
    "#Kmeans = MiniBatchKMeans(n_clusters=40,random_state=10, init='k-means++')"
   ]
  },
  {
   "cell_type": "code",
   "execution_count": 34,
   "metadata": {},
   "outputs": [],
   "source": [
    "#y = Kmeans.fit_predict(X)"
   ]
  },
  {
   "cell_type": "code",
   "execution_count": null,
   "metadata": {},
   "outputs": [],
   "source": []
  },
  {
   "cell_type": "code",
   "execution_count": null,
   "metadata": {},
   "outputs": [],
   "source": []
  },
  {
   "cell_type": "code",
   "execution_count": 35,
   "metadata": {},
   "outputs": [],
   "source": [
    "def run_train(eps_, min_samples_, kmodel, E, chunk_size=2000, tau1=0.5, tau2=1.0, rd_threshold=0.5, alpha=1.0, adapt=True, fw=True):\n",
    "    \n",
    "\n",
    "    total_FW = 0\n",
    "    \n",
    "    DB_N_cluster = []\n",
    "    DB_TPR = []\n",
    "    DB_FPR = []\n",
    "    DB_precision = []\n",
    "    DB_FS = []\n",
    "    \n",
    "    KM_ED_TPR = []\n",
    "    KM_ED_FPR = []\n",
    "    KM_ED_precision = []\n",
    "    KM_ED_FS = []\n",
    "\n",
    "    KM_TE_TPR = []\n",
    "    KM_TE_FPR = []\n",
    "    KM_TE_precision = []\n",
    "    KM_TE_FS = []\n",
    "    \n",
    "    SVM_TPR = []\n",
    "    SVM_FPR = []\n",
    "    SVM_precision = []\n",
    "    SVM_FS = []\n",
    "    \n",
    "\n",
    "    indices = []    \n",
    "    \n",
    "    i = 0\n",
    "    \n",
    "    clf = svm.OneClassSVM(nu=0.0001, kernel=\"rbf\", gamma=0.1)\n",
    "   \n",
    "    \n",
    "    while (i < total):\n",
    "\n",
    "        indices.append(i)\n",
    "\n",
    "        if (i + chunk_size) < total:\n",
    "            chunk = nsl10Train[i:(i + chunk_size)]\n",
    "        else:\n",
    "            chunk = nsl10Train[i:total]\n",
    "        i = i + chunk_size\n",
    "\n",
    "        chunk_labels = chunk['label'].values\n",
    "        chunk_classes = chunk['class'].values\n",
    "        chunk_difficulty = chunk['difficulty'].values\n",
    "        qtd_normal = chunk[chunk.label == 'normal'].count()[0]\n",
    "        qtd_attack = chunk[chunk.label != 'normal'].count()[0]\n",
    "\n",
    "        subDF = chunk[numerical_features]\n",
    "        cols = subDF.columns.tolist()\n",
    "\n",
    "        #X = minmax_scaler.transform(subDF)\n",
    "        #X = normalize(subDF)\n",
    "        X = std_scaler.transform(subDF)\n",
    "\n",
    "\n",
    "        ## DBSCAN\n",
    "        db = DBSCAN(eps=eps_, min_samples=min_samples_,random_state=10).fit(X)\n",
    "        core_samples_mask = np.zeros_like(db.labels_, dtype=bool)\n",
    "        core_samples_mask[db.core_sample_indices_] = True\n",
    "        dblabels = db.labels_\n",
    "\n",
    "        outliers = 1 if -1 in dblabels else 0\n",
    "\n",
    "        n_clusters_ = len(set(dblabels)) - (outliers)\n",
    "        DB_N_cluster.append(n_clusters_)\n",
    "        #print(\"N_clusters: {}\".format(n_clusters_))\n",
    "\n",
    "\n",
    "        resultDF = pd.DataFrame(X, columns=cols)\n",
    "        resultDF['DBcluster'] = dblabels\n",
    "\n",
    "        media = resultDF.groupby('DBcluster').mean().values\n",
    "\n",
    "        resultDF['label'] = chunk_labels\n",
    "        resultDF['class'] = chunk_classes\n",
    "\n",
    "        resultDF['DB_ED'] = euclidean_dist_calc(X, dblabels,media[1:] if outliers else media)\n",
    "        resultDF['difficulty'] = chunk_difficulty\n",
    "\n",
    "        #variance = resultDF.groupby('DBcluster')['DB_ED'].std()\n",
    "\n",
    "        # Densidade (numero de pontos) pertencentes a um cluster\n",
    "        Dc = []\n",
    "\n",
    "        for k in range(0, n_clusters_):        \n",
    "            #density.append((resultDF[resultDF.DBcluster == k]['DB_ED']).apply(lambda x: math.exp(-x**2/(2*(variance[k]**2)))).sum())\n",
    "            #Dc.append(resultDF[resultDF.DBcluster == k].count()[0])\n",
    "            Dc = resultDF.groupby('DBcluster')['DB_ED'].count()\n",
    "\n",
    "        # Densidade esperada dos clusters (neste caso será utilizada a média entre o número de elementos e o número de clusters)\n",
    "        try:\n",
    "            EDs = chunk_size / n_clusters_\n",
    "            \n",
    "            RD = Dc / EDs\n",
    "\n",
    "            normal_clusters = (RD[RD >= rd_threshold].index)\n",
    "            anomaly_clusters = (RD[RD < rd_threshold].index)\n",
    "                       \n",
    "        \n",
    "        except:\n",
    "            \n",
    "            normal_clusters = pd.Series([])\n",
    "            anomaly_clusters = pd.Series([-1])\n",
    "            \n",
    "            \n",
    "        TP = (resultDF[resultDF.DBcluster.isin(anomaly_clusters.values)][resultDF.label != 'normal'])\n",
    "        FN = (resultDF[resultDF.DBcluster.isin(normal_clusters.values)][resultDF.label != 'normal'])\n",
    "        FP = (resultDF[resultDF.DBcluster.isin(anomaly_clusters.values)][resultDF.label == 'normal'])\n",
    "               \n",
    "\n",
    "        tpr = len(TP) / qtd_attack\n",
    "        fpr = len(FP) / qtd_normal\n",
    "        \n",
    "        try:         \n",
    "            precision = len(TP)/(len(TP) + len(FP))        \n",
    "            f_score = 2 * ((precision * tpr)/(precision + tpr)) \n",
    "            \n",
    "        except ZeroDivisionError:           \n",
    "            precision = 0\n",
    "            f_score = 0        \n",
    "        \n",
    "        DB_TPR.append(tpr)\n",
    "        DB_FPR.append(fpr)\n",
    "        DB_precision.append(precision)              \n",
    "        DB_FS.append(f_score)\n",
    "\n",
    "\n",
    "        normal = resultDF[resultDF.DBcluster.isin(normal_clusters.values)]\n",
    "        anomaly = resultDF[resultDF.DBcluster.isin(anomaly_clusters.values)]\n",
    "\n",
    "        normal['Detect'] = 0\n",
    "        anomaly['Detect'] = -1\n",
    "\n",
    "        \n",
    "        if i - chunk_size == 0:        \n",
    "            if len(normal) > 0:        \n",
    "                normal['KMcluster'] = kmodel.fit_predict(normal[numerical_features].values)\n",
    "\n",
    "            else:\n",
    "                kmodel.partial_fit(anomaly[numerical_features].values)\n",
    "                \n",
    "                \n",
    "        elif adapt == True:\n",
    "            #print('Adapting...')\n",
    "            if len(normal) != 0:                \n",
    "            \n",
    "                centers = kmodel.cluster_centers_\n",
    "                #print(centers)\n",
    "                normal['KMcluster'] = kmodel.predict(normal[numerical_features].values)\n",
    "                v = normal.groupby('KMcluster')[numerical_features].mean().values\n",
    "                #print(v)\n",
    "                for c in range(len(v)):\n",
    "                    centers[c] = update_W(v[c],centers[c], (i-chunk_size), chunk_size, alpha)\n",
    "\n",
    "                kmodel.cluster_centers_ = centers\n",
    "\n",
    "                #print(kmodel.cluster_centers_)\n",
    "        else:\n",
    "            if len(normal) > 0 :\n",
    "                normal['KMcluster'] = kmodel.predict(normal[numerical_features].values)\n",
    "           \n",
    "                \n",
    "\n",
    "        \n",
    "        anomaly['KMcluster'] = kmodel.predict(anomaly[numerical_features].values)\n",
    "        anomaly['KM_ED'] = euclidean_dist_calc(anomaly[numerical_features].values,\n",
    "                                               anomaly['KMcluster'].values,\n",
    "                                               kmodel.cluster_centers_)\n",
    "\n",
    "        anomaly['TEV'] = 0\n",
    "        anomaly['TEQ'] = 0\n",
    "        anomaly[['TEV','TEQ']] = tev_teq(anomaly[numerical_features].values,\n",
    "                                         anomaly.KMcluster.values, \n",
    "                                         tau1, kmodel)\n",
    "        \n",
    "        normal['TEV'] = 0\n",
    "        normal['TEQ'] = 0\n",
    "        #normal[['TEV','TEQ']] = tev_teq(normal[numerical_features].values,\n",
    "        #                                 normal.KMcluster.values, \n",
    "        #                                 tau1, kmodel)\n",
    "\n",
    "   \n",
    "\n",
    "        \n",
    "        if i - chunk_size == 0:        \n",
    "            if len(normal) > 0:        \n",
    "                clf.fit(normal[numerical_features].values)\n",
    "            else:\n",
    "                clf.fit(anomaly[numerical_features].values)\n",
    "\n",
    "        \n",
    "        \n",
    "\n",
    "        anomaly['OneSVM'] = clf.predict(anomaly[numerical_features].values)\n",
    "        #TP\n",
    "        TP = anomaly[anomaly.label != 'normal'][anomaly.OneSVM == -1]\n",
    "        #FP\n",
    "        FP = anomaly[anomaly.label == 'normal'][anomaly.OneSVM == -1]\n",
    "        #FN\n",
    "        FN = anomaly[anomaly.label != 'normal'][anomaly.OneSVM != -1]\n",
    "        \n",
    "        \n",
    "        tpr = len(TP) / qtd_attack\n",
    "        fpr = len(FP) / qtd_normal\n",
    "        \n",
    "        try:         \n",
    "            precision = len(TP)/(len(TP) + len(FP))        \n",
    "            f_score = 2 * ((precision * tpr)/(precision + tpr)) \n",
    "            \n",
    "        except ZeroDivisionError:           \n",
    "            precision = 0\n",
    "            f_score = 0        \n",
    "        \n",
    "        SVM_TPR.append(tpr)\n",
    "        SVM_FPR.append(fpr)\n",
    "        SVM_precision.append(precision)              \n",
    "        SVM_FS.append(f_score)        \n",
    "        \n",
    "        \n",
    "        \n",
    "        #KM_limiar = anomaly.groupby('KMcluster')['KM_ED'].quantile(tau2)\n",
    "        #KM_limiar = pd.Series([1.1,2.0,2.0,1.5,2.1])\n",
    "        #print(KM_limiar)\n",
    "\n",
    "\n",
    "        #Verdadeiro positivo: ED é maior do que o limiar e é ataque\n",
    "        TP = (anomaly[anomaly.KM_ED > E][anomaly.label != \"normal\"])\n",
    "\n",
    "        #Falso negativo: ED é menor que o limiar, mas é ataque\n",
    "        FN = (anomaly[anomaly.KM_ED <= E][anomaly.label != \"normal\"])\n",
    "\n",
    "        #Falso positivo: ED é maior do que o limiar, mas é normal \n",
    "        FP = (anomaly[anomaly.KM_ED > E][anomaly.label == \"normal\"])\n",
    "        \n",
    "        tpr = len(TP) / qtd_attack\n",
    "        fpr = len(FP) / qtd_normal\n",
    "        \n",
    "        try:         \n",
    "            precision = len(TP)/(len(TP) + len(FP))        \n",
    "            f_score = 2 * ((precision * tpr)/(precision + tpr)) \n",
    "            \n",
    "        except ZeroDivisionError:           \n",
    "            precision = 0\n",
    "            f_score = 0\n",
    "        \n",
    "        KM_ED_TPR.append(tpr)\n",
    "        KM_ED_FPR.append(fpr)\n",
    "        KM_ED_precision.append(precision)              \n",
    "        KM_ED_FS.append(f_score)\n",
    "        \n",
    "     \n",
    "        \n",
    "        #if tau2 == 0:\n",
    "        #    tau2 = normal['TEV'].max()\n",
    "        #else:\n",
    "        #    tau2 = (normal['TEV'].max() + tau2) / 2\n",
    "        \n",
    "        \n",
    "        #KM_limiar = anomaly.groupby('KMcluster')['TEV'].quantile(tau2)\n",
    "        #print(KM_limiar)\n",
    "\n",
    "        #Verdadeiro positivo: ED é maior do que o limiar e é ataque\n",
    "        TP = (anomaly[anomaly.TEV > E][anomaly.label != \"normal\"])\n",
    "\n",
    "        #Falso negativo: ED é menor que o limiar, mas é ataque\n",
    "        FN = (anomaly[(anomaly['TEV'] <= E) & (anomaly['TEV'] <= tau2)][anomaly.label != \"normal\"])\n",
    "        FW = (anomaly[(anomaly['TEV'] <= E) & (anomaly['TEV'] > tau2)][anomaly.label != \"normal\"])\n",
    "\n",
    "        #Falso positivo: ED é maior do que o limiar, mas é normal \n",
    "        FP = (anomaly[anomaly.TEV > E][anomaly.label == \"normal\"])        \n",
    "        \n",
    "        \n",
    "                \n",
    "        \n",
    "        if fw:\n",
    "            #print('Encaminhando:',len(FW), 'tau2:', tau2)\n",
    "            tp = (len(TP) + len(FW))           \n",
    "            \n",
    "            \n",
    "            FW = (anomaly[(anomaly['TEV'] <= E) & (anomaly['TEV'] > tau2)])\n",
    "            total_FW = total_FW + len(FW)\n",
    "        else:\n",
    "            tp = len(TP)            \n",
    "        \n",
    "        \n",
    "        tpr =  tp / qtd_attack\n",
    "        \n",
    "        fpr = len(FP) / qtd_normal\n",
    "        \n",
    "        try:\n",
    "            precision = tp /(tp + len(FP))        \n",
    "            f_score = 2 * ((precision * tpr)/(precision + tpr))\n",
    "            \n",
    "        except ZeroDivisionError:           \n",
    "            precision = 0\n",
    "            f_score = 0      \n",
    "        \n",
    "        KM_TE_TPR.append(tpr)\n",
    "        KM_TE_FPR.append(fpr)\n",
    "        KM_TE_precision.append(precision)              \n",
    "        KM_TE_FS.append(f_score)\n",
    "        \n",
    "        \n",
    "        \n",
    "        \n",
    "    tprD = {'DB_TPR': pd.Series(DB_TPR, index=indices),\n",
    "           'ED_TPR':pd.Series(KM_ED_TPR, index=indices),\n",
    "           'TE_TPR':pd.Series(KM_TE_TPR, index=indices),\n",
    "           'SVM_TPR': pd.Series(SVM_TPR, index=indices) }\n",
    "\n",
    "    tprDF = pd.DataFrame(tprD)\n",
    "\n",
    "\n",
    "    fprD = {'DB_FPR': pd.Series(DB_FPR, index=indices),\n",
    "           'ED_FPR':pd.Series(KM_ED_FPR, index=indices),\n",
    "           'TE_FPR':pd.Series(KM_TE_FPR, index=indices),\n",
    "           'SVM_FPR': pd.Series(SVM_FPR, index=indices)\n",
    "          }\n",
    "    fprDF = pd.DataFrame(fprD)\n",
    "    \n",
    "    \n",
    "    precisionDF = pd.DataFrame({\n",
    "           'DB_precision':pd.Series(DB_precision, index=indices),\n",
    "           'ED_precision':pd.Series(KM_ED_precision, index=indices),\n",
    "           'TE_precision':pd.Series(KM_TE_precision, index=indices),\n",
    "           'SVM_precision': pd.Series(SVM_precision, index=indices)\n",
    "        } \n",
    "    )\n",
    "    \n",
    "    fsDF = pd.DataFrame({\n",
    "            'DB':pd.Series(DB_FS, index=indices),\n",
    "           'ED':pd.Series(KM_ED_FS, index=indices),\n",
    "           'TE':pd.Series(KM_TE_FS, index=indices),\n",
    "           'SVM': pd.Series(SVM_FS, index=indices)\n",
    "        } \n",
    "    )\n",
    "    \n",
    "    \n",
    "    #plot_PCA(anomaly[numerical_features], anomaly.KMcluster, chunk_labels)\n",
    "    \n",
    "    print (total_FW)\n",
    "    \n",
    "    return (tprDF, fprDF, precisionDF, fsDF)\n",
    "    \n",
    "    "
   ]
  },
  {
   "cell_type": "code",
   "execution_count": null,
   "metadata": {},
   "outputs": [],
   "source": []
  },
  {
   "cell_type": "code",
   "execution_count": null,
   "metadata": {
    "collapsed": true
   },
   "outputs": [],
   "source": []
  },
  {
   "cell_type": "code",
   "execution_count": 36,
   "metadata": {
    "collapsed": true
   },
   "outputs": [],
   "source": [
    "eps_values = [1.0,1.5,2.0,2.5,3.0]\n",
    "#eps_values = [1.0]\n",
    "min_values = [4,8,16,32,64,128,256]\n",
    "#min_values = [160,320]\n",
    "#db_threshold_values = [0.2,0.4,0.6,0.8]"
   ]
  },
  {
   "cell_type": "code",
   "execution_count": null,
   "metadata": {
    "scrolled": false
   },
   "outputs": [
    {
     "name": "stdout",
     "output_type": "stream",
     "text": [
      "\n",
      "\n",
      "-- eps: 1.0\n",
      "0\n",
      "min_samples: 4 \t 0.838207260934 \t 0.347953949192 \t 0.345512607737\n",
      "0\n",
      "min_samples: 8 \t 0.995635252515 \t 0.401366582144 \t 0.37090854498\n",
      "0\n",
      "min_samples: 16 \t 0.997082836818 \t 0.487405740648 \t 0.330684568099\n",
      "0\n",
      "min_samples: 32 \t 1.0 \t 0.984644427932 \t 0.195438102334\n",
      "0\n",
      "min_samples: 64 \t 1.0 \t 1.0 \t 0.191646256154\n",
      "0\n",
      "min_samples: 128 \t 1.0 \t 1.0 \t 0.191646256154\n",
      "0\n",
      "min_samples: 256 \t 1.0 \t 1.0 \t 0.191646256154\n",
      "\n",
      "\n",
      "-- eps: 1.5\n",
      "0\n",
      "min_samples: 4 \t 0.870693023424 \t 0.226389808105 \t 0.452134680114\n",
      "0\n",
      "min_samples: 8 \t 0.983951497595 \t 0.240587062712 \t 0.49012682596\n",
      "0\n",
      "min_samples: 16 \t 0.987128938761 \t 0.295633654131 \t 0.442751379461\n",
      "0\n",
      "min_samples: 32 \t 0.991856125414 \t 0.420042839949 \t 0.366946710773\n",
      "0\n",
      "min_samples: 64 \t 0.99448220157 \t 0.566483492594 \t 0.316090532082\n",
      "0\n",
      "min_samples: 128 \t 0.999862030905 \t 0.977697655716 \t 0.197520680165\n",
      "0\n",
      "min_samples: 256 \t 1.0 \t 1.0 \t 0.191646256154\n",
      "\n",
      "\n",
      "-- eps: 2.0\n",
      "0\n",
      "min_samples: 4 \t 0.809583038203 \t 0.18342910035 \t 0.468863971832\n",
      "0\n",
      "min_samples: 8 \t 0.972375399576 \t 0.191063621311 \t 0.541720249076\n",
      "0\n",
      "min_samples: 16 \t 0.9791931564 \t 0.21055855069 \t 0.524733973361\n",
      "0\n",
      "min_samples: 32 \t 0.983649895789 \t 0.250058463406 \t 0.483287725356\n",
      "0\n",
      "min_samples: 64 \t 0.985604872595 \t 0.310043737059 \t 0.429969388029\n",
      "0\n",
      "min_samples: 128 \t 0.987532233908 \t 0.35605452632 \t 0.396877113652\n",
      "0\n",
      "min_samples: 256 \t 1.0 \t 1.0 \t 0.191646256154\n",
      "\n",
      "\n",
      "-- eps: 2.5\n",
      "0\n",
      "min_samples: 4 \t 0.762063943124 \t 0.161439810995 \t 0.471612236815\n",
      "0\n",
      "min_samples: 8 \t 0.962381626167 \t 0.168198146536 \t 0.568267877105\n",
      "0\n",
      "min_samples: 16 \t 0.966310404979 \t 0.173117210164 \t 0.563019712133\n",
      "0\n",
      "min_samples: 32 \t 0.971245441935 \t 0.191155722093 \t 0.545899006017\n",
      "0\n",
      "min_samples: 64 \t 0.978457244066 \t 0.225453983443 \t 0.507202331779\n",
      "0\n",
      "min_samples: 128 \t 0.981076973229 \t 0.249417927014 \t 0.482800879322\n",
      "0\n",
      "min_samples: 256 \t 0.98847164436 \t 0.488153197283 \t 0.355992715678\n",
      "\n",
      "\n",
      "-- eps: 3.0\n",
      "0\n",
      "min_samples: 4 \t 0.780722206378 \t 0.130740277408 \t 0.525142528881\n",
      "0\n",
      "min_samples: 8 \t 0.947649982667 \t 0.14435203028 \t 0.59782791543\n",
      "0\n",
      "min_samples: 16 \t 0.9518180671 \t 0.15268696689 \t 0.586545179659\n",
      "0\n",
      "min_samples: 32 \t 0.95984379371 \t 0.15815582659 \t 0.581773263226\n",
      "0\n",
      "min_samples: 64 \t 0.961312466468 \t 0.171155545089 \t 0.563910623649\n",
      "0\n",
      "min_samples: 128 \t 0.963717265009 \t 0.180509299679 \t 0.552095445917\n",
      "0\n",
      "min_samples: 256 \t 0.978799487092 \t 0.236596244124 \t 0.496344364212\n",
      "{1.0: ([0.0, 0.83820726093443143, 0.99563525251456131, 0.99708283681825371, 1.0, 1.0, 1.0, 1.0], [0.0, 0.34795394919199391, 0.40136658214350623, 0.48740574064828884, 0.98464442793193097, 1.0, 1.0, 1.0]), 2.0: ([0.0, 0.80958303820335409, 0.97237539957571462, 0.97919315639993454, 0.98364989578891748, 0.98560487259508456, 0.98753223390818989, 1.0], [0.0, 0.18342910035014626, 0.19106362131149052, 0.21055855069028478, 0.25005846340591747, 0.3100437370588735, 0.35605452632039825, 1.0]), 3.0: ([0.0, 0.78072220637804135, 0.94764998266706746, 0.95181806709966521, 0.95984379370987039, 0.96131246646823243, 0.96371726500947863, 0.97879948709169828], [0.0, 0.13074027740845515, 0.14435203027961313, 0.15268696688976402, 0.15815582658953461, 0.17115554508949479, 0.18050929967921719, 0.23659624412381497]), 2.5: ([0.0, 0.76206394312402848, 0.96238162616666723, 0.96631040497892839, 0.97124544193548124, 0.97845724406628898, 0.98107697322939691, 0.98847164435996426], [0.0, 0.16143981099450197, 0.16819814653606222, 0.17311721016442533, 0.19115572209289294, 0.22545398344305875, 0.24941792701430182, 0.48815319728332524]), 1.5: ([0.0, 0.87069302342422816, 0.98395149759533851, 0.98712893876083985, 0.99185612541367807, 0.99448220156997158, 0.99986203090507741, 1.0], [0.0, 0.226389808105353, 0.24058706271192012, 0.29563365413141773, 0.42004283994914021, 0.5664834925941461, 0.97769765571617262, 1.0])}\n"
     ]
    }
   ],
   "source": [
    "import sys\n",
    "\n",
    "kmodel = MiniBatchKMeans(n_clusters=5,random_state=10, init='k-means++')\n",
    "\n",
    "\n",
    "\n",
    "dic = {}\n",
    "\n",
    "for i in range (0,len(eps_values)):\n",
    "    print('\\n\\n-- eps:', eps_values[i])\n",
    "    \n",
    "    tpr = []\n",
    "    fpr = []\n",
    "    \n",
    "    tpr.append(0.0)\n",
    "    fpr.append(0.0)\n",
    "    \n",
    "    for j in range (0, len(min_values)):\n",
    "        #print('---- min_samples:', min_values[j])\n",
    "\n",
    "        \n",
    "        #for k in range (0, len(db_threshold_values)):\n",
    "        \n",
    "\n",
    "        #print('------ db_threshold:', db_threshold_values[k])\n",
    "\n",
    "\n",
    "        tprDF,fprDF,precisionDF,fsDF = run_train(eps_=eps_values[i],\n",
    "                                 min_samples_=min_values[j], \n",
    "                                 E=0.9, \n",
    "                                 kmodel=kmodel,\n",
    "                                 chunk_size=500,\n",
    "                                 tau1=0.6,\n",
    "                                 rd_threshold=0.5,\n",
    "                                 alpha=0.1,\n",
    "                                 tau2=1.0 \n",
    "                                )\n",
    "\n",
    "        print('min_samples:',min_values[j],'\\t', tprDF.DB_TPR.mean(), '\\t', fprDF.DB_FPR.mean(), '\\t', fsDF.DB.mean())\n",
    "\n",
    "        tpr.append(tprDF.DB_TPR.mean())\n",
    "        fpr.append(fprDF.DB_FPR.mean())\n",
    "    \n",
    "    dic[eps_values[i]] = (tpr, fpr)\n",
    "    \n",
    "print(dic)\n"
   ]
  },
  {
   "cell_type": "code",
   "execution_count": 37,
   "metadata": {
    "collapsed": true
   },
   "outputs": [],
   "source": [
    "import pickle"
   ]
  },
  {
   "cell_type": "code",
   "execution_count": null,
   "metadata": {},
   "outputs": [],
   "source": [
    "with open('dic.pkl', 'wb') as pickle_file:\n",
    "    pickle.dump(dic, pickle_file)"
   ]
  },
  {
   "cell_type": "code",
   "execution_count": 38,
   "metadata": {},
   "outputs": [],
   "source": [
    "with open('dic.pkl', 'rb') as pickle_file:\n",
    "    dic = pickle.load(pickle_file)"
   ]
  },
  {
   "cell_type": "code",
   "execution_count": 41,
   "metadata": {
    "scrolled": true
   },
   "outputs": [
    {
     "data": {
      "image/png": "[encoded data removed]",
      "text/plain": [
       "<matplotlib.figure.Figure at 0x7f4fbda83c50>"
      ]
     },
     "metadata": {},
     "output_type": "display_data"
    }
   ],
   "source": [
    "plt.figure(figsize=(10,10))\n",
    "plt.ylabel('TPR')\n",
    "plt.xlabel('FPR')\n",
    "\n",
    "plt.plot(dic[eps_values[0]][1], dic[eps_values[0]][0], ls='-.', label='eps = ' + str(eps_values[0]), marker='D')\n",
    "\n",
    "plt.plot(dic[eps_values[1]][1], dic[eps_values[1]][0], ls='--', label='eps = '+ str(eps_values[1]), marker='*')\n",
    "\n",
    "plt.plot(dic[eps_values[2]][1], dic[eps_values[2]][0], ls='-', label='eps = '+ str(eps_values[2]), marker='>')\n",
    "\n",
    "plt.plot(dic[eps_values[3]][1], dic[eps_values[3]][0], ls=':', label='eps = '+ str(eps_values[3]), marker='d')\n",
    "\n",
    "plt.plot(dic[eps_values[4]][1], dic[eps_values[4]][0], ls='solid', label='eps = '+ str(eps_values[4]), marker='v')\n",
    "\n",
    "plt.legend(loc=4)\n",
    "\n",
    "\n",
    "\n",
    "plt.savefig('./figuras/dbs-eps-nsl.png')"
   ]
  },
  {
   "cell_type": "code",
   "execution_count": 42,
   "metadata": {},
   "outputs": [
    {
     "data": {
      "image/png": "[encoded data removed]",
      "text/plain": [
       "<matplotlib.figure.Figure at 0x7f4fbdaaf748>"
      ]
     },
     "metadata": {},
     "output_type": "display_data"
    }
   ],
   "source": [
    "plt.figure(figsize=(10,10))\n",
    "\n",
    "plt.ylabel('TPR')\n",
    "plt.xlabel('FPR')\n",
    "\n",
    "\n",
    "lab = ['minPts = 20','minPts = 40','minPts = 60','minPts = 90','minPts = 160','minPts = 320','minPts = 420']\n",
    "mark = ['D','*','>','d','.','o','<']\n",
    "\n",
    "for i  in range(0,5):\n",
    "    \n",
    "    x = [0.0, dic[eps_values[0]][1][i+2],dic[eps_values[1]][1][i+2],dic[eps_values[2]][1][i+2],dic[eps_values[3]][1][i+2],dic[eps_values[4]][1][i+2]]\n",
    "    y = [0.0, dic[eps_values[0]][0][i+2],dic[eps_values[1]][0][i+2],dic[eps_values[2]][0][i+2],dic[eps_values[3]][0][i+2],dic[eps_values[4]][0][i+2]]\n",
    "       \n",
    "    x.sort()\n",
    "    y.sort()\n",
    "    \n",
    "    plt.plot(x, y, ls='-.', label=lab[i], marker=mark[i])\n",
    "\n",
    "plt.legend(loc=4)\n",
    "\n",
    "plt.savefig('./figuras/dbs-min-nsl.png')"
   ]
  },
  {
   "cell_type": "code",
   "execution_count": 44,
   "metadata": {
    "collapsed": true
   },
   "outputs": [],
   "source": [
    "minPt = 128\n",
    "ep = 2.5\n",
    "n = 500"
   ]
  },
  {
   "cell_type": "code",
   "execution_count": 51,
   "metadata": {},
   "outputs": [
    {
     "name": "stdout",
     "output_type": "stream",
     "text": [
      "--k: 1\n",
      "0\n",
      "e: 4 \t 0.975270339827 \t 0.199995538358 \t 0.540758718042\n",
      "0\n",
      "e: 5 \t 0.958323169465 \t 0.152153612408 \t 0.598811057327\n",
      "0\n",
      "e: 6 \t 0.927102480693 \t 0.11858174207 \t 0.640032089456\n",
      "0\n",
      "e: 8 \t 0.884801454163 \t 0.0652511038388 \t 0.731645913987\n",
      "0\n",
      "e: 10 \t 0.19217544178 \t 0.0175739141445 \t 0.28524410115\n",
      "0\n",
      "e: 12 \t 0.0817167101967 \t 0.0118500647103 \t 0.136592173588\n",
      "--k: 2\n",
      "0\n",
      "e: 4 \t 0.970073268604 \t 0.189315389259 \t 0.552051233953\n",
      "0\n",
      "e: 5 \t 0.956550167084 \t 0.144738518369 \t 0.609478180836\n",
      "0\n",
      "e: 6 \t 0.920604231554 \t 0.115488782583 \t 0.642570866064\n",
      "0\n",
      "e: 8 \t 0.867663362456 \t 0.0634510998841 \t 0.726783518529\n",
      "0\n",
      "e: 10 \t 0.188033549879 \t 0.0166189896037 \t 0.281704596117\n",
      "0\n",
      "e: 12 \t 0.0803453356696 \t 0.0117932465284 \t 0.134367514282\n",
      "--k: 4\n",
      "0\n",
      "e: 4 \t 0.966580159339 \t 0.167442095165 \t 0.580131271599\n",
      "0\n",
      "e: 5 \t 0.933392345478 \t 0.129484345376 \t 0.624074422478\n",
      "0\n",
      "e: 6 \t 0.914798652679 \t 0.104995303389 \t 0.659509278427\n",
      "0\n",
      "e: 8 \t 0.854144162282 \t 0.0559824252412 \t 0.738189074446\n",
      "0\n",
      "e: 10 \t 0.147302883482 \t 0.015328970306 \t 0.228974729075\n",
      "0\n",
      "e: 12 \t 0.0760003563743 \t 0.0115634750566 \t 0.127723678111\n",
      "--k: 8\n",
      "0\n",
      "e: 4 \t 0.952255238001 \t 0.141877696002 \t 0.612294554055\n",
      "0\n",
      "e: 5 \t 0.918347901635 \t 0.11976248314 \t 0.634057944123\n",
      "0\n",
      "e: 6 \t 0.910471024192 \t 0.101682451751 \t 0.663926478972\n",
      "0\n",
      "e: 8 \t 0.837510927554 \t 0.0538990467046 \t 0.734158842913\n",
      "0\n",
      "e: 10 \t 0.117996709891 \t 0.0147685542421 \t 0.187867642741\n",
      "0\n",
      "e: 12 \t 0.0760003563743 \t 0.0115634750566 \t 0.127723678111\n",
      "--k: 16\n",
      "0\n",
      "e: 4 \t 0.946909725169 \t 0.139575579282 \t 0.613709143319\n",
      "0\n",
      "e: 5 \t 0.915845568584 \t 0.11684469792 \t 0.638017753695\n",
      "0\n",
      "e: 6 \t 0.90996082011 \t 0.0994852095808 \t 0.667961687059\n",
      "0\n",
      "e: 8 \t 0.824162244494 \t 0.0518752156499 \t 0.731947765463\n",
      "0\n",
      "e: 10 \t 0.113970172801 \t 0.0136420973048 \t 0.183178147708\n",
      "0\n",
      "e: 12 \t 0.0716391899907 \t 0.00836481779437 \t 0.123156743624\n",
      "--k: 32\n",
      "0\n",
      "e: 4 \t 0.95024104607 \t 0.14153671477 \t 0.611841783101\n",
      "0\n",
      "e: 5 \t 0.921819198982 \t 0.118413806225 \t 0.637936660266\n",
      "0\n",
      "e: 6 \t 0.911463087684 \t 0.1007244863 \t 0.666388049998\n",
      "0\n",
      "e: 8 \t 0.835345246857 \t 0.0529402603499 \t 0.735222804221\n",
      "0\n",
      "e: 10 \t 0.115695593344 \t 0.0144875895664 \t 0.184830191516\n",
      "0\n",
      "e: 12 \t 0.0751519238175 \t 0.0115065274484 \t 0.12640226974\n"
     ]
    }
   ],
   "source": [
    "eps_ed = [4,5,6,8,10,12]\n",
    "\n",
    "ks = [1,2,4,8,16,32]\n",
    "\n",
    "k_dic = {}\n",
    "\n",
    "for k in ks:\n",
    "\n",
    "    \n",
    "    tpr = []\n",
    "    fpr = []\n",
    "    \n",
    "    kmodel = MiniBatchKMeans(n_clusters=k,random_state=10, init='k-means++')\n",
    "\n",
    "    print('--k:', k)\n",
    "    \n",
    "    for e in eps_ed:\n",
    "        tprDF,fprDF,precisionDF,fsDF = run_train(eps_=2.5,\n",
    "                                 min_samples_=100,\n",
    "                                 E=e, \n",
    "                                 kmodel=kmodel,\n",
    "                                 chunk_size=500,\n",
    "                                 tau1=0,\n",
    "                                 rd_threshold=0.5,\n",
    "                                 alpha=1.0,\n",
    "                                 tau2=e,\n",
    "                                 adapt=True\n",
    "                                )\n",
    "        print('e:', e,'\\t',tprDF.ED_TPR.mean(),'\\t',fprDF.ED_FPR.mean(),'\\t',fsDF.ED.mean())\n",
    "    \n",
    "        tpr.append(tprDF.ED_TPR.mean())\n",
    "        fpr.append(fprDF.ED_FPR.mean())\n",
    "    \n",
    "    k_dic[k] = (tpr, fpr)\n",
    "    "
   ]
  },
  {
   "cell_type": "code",
   "execution_count": 53,
   "metadata": {
    "collapsed": true
   },
   "outputs": [],
   "source": [
    "with open('dic_ks.pkl', 'wb') as pickle_file:\n",
    "    pickle.dump(k_dic, pickle_file)"
   ]
  },
  {
   "cell_type": "code",
   "execution_count": null,
   "metadata": {
    "collapsed": true
   },
   "outputs": [],
   "source": [
    "with open('dic_ks.pkl', 'rb') as pickle_file:\n",
    "    k_dic = pickle.load(pickle_file)"
   ]
  },
  {
   "cell_type": "code",
   "execution_count": 55,
   "metadata": {},
   "outputs": [
    {
     "data": {
      "image/png": "[encoded data removed]",
      "text/plain": [
       "<matplotlib.figure.Figure at 0x7f7595e9cd68>"
      ]
     },
     "metadata": {},
     "output_type": "display_data"
    }
   ],
   "source": [
    "plt.figure()\n",
    "plt.ylabel('TPR')\n",
    "plt.xlabel('FPR')\n",
    "\n",
    "\n",
    "for k in ks:\n",
    "    x = k_dic[k][1]\n",
    "    y = k_dic[k][0]\n",
    "    \n",
    "    x.sort()\n",
    "    y.sort()\n",
    "    \n",
    "    plt.plot(x,y,label = k, ls='--',marker='o')\n",
    "    \n",
    "plt.legend(loc=4)\n",
    "\n",
    "plt.yticks = [0,0.25,0.5,0.75,1.0]\n",
    "plt.xticks = [0,0.25,0.5,0.75,1.0]\n",
    "\n",
    "\n",
    "\n",
    "plt.savefig('./figuras/many-ks.png')"
   ]
  },
  {
   "cell_type": "code",
   "execution_count": 59,
   "metadata": {
    "scrolled": true
   },
   "outputs": [
    {
     "name": "stdout",
     "output_type": "stream",
     "text": [
      "457\n",
      "no_adapt:\t 0.938552880946 \t 0.130546783626 \t 0.624687098762\n",
      "402\n",
      "alpha: 0 \t 0.934158541004 \t 0.128748182731 \t 0.625699728033\n",
      "397\n",
      "alpha: 1.0 \t 0.933392345478 \t 0.129484345376 \t 0.624074422478\n",
      "{0: (0.93415854100388596, 0.12874818273065497), 1.0: (0.9333923454779024, 0.12948434537634279), 'no_adapt': (0.93855288094615619, 0.13054678362587241)}\n"
     ]
    }
   ],
   "source": [
    "test_alpha = [0,1.0]\n",
    "\n",
    "dic_alpha = {}\n",
    "\n",
    "kmodel = MiniBatchKMeans(n_clusters=4,random_state=10, init='k-means++')\n",
    "\n",
    "tprDF,fprDF,precisionDF,fsDF = run_train(eps_=ep,\n",
    "                         min_samples_=minPt,\n",
    "                         E=6.0, \n",
    "                         kmodel=kmodel,\n",
    "                         chunk_size=n,\n",
    "                         \n",
    "                         rd_threshold=0.5,\n",
    "                         \n",
    "                         \n",
    "                         adapt=False\n",
    "                        )\n",
    "\n",
    "print('no_adapt:\\t',tprDF.ED_TPR.mean(),'\\t',fprDF.ED_FPR.mean(),'\\t',fsDF.ED.mean())\n",
    "\n",
    "dic_alpha['no_adapt'] = (tprDF.ED_TPR.mean(),fprDF.ED_FPR.mean())\n",
    "\n",
    "for a in test_alpha:\n",
    "    kmodel = MiniBatchKMeans(n_clusters=4,random_state=10, init='k-means++')\n",
    "\n",
    "    \n",
    "    \n",
    "    tprDF,fprDF,precisionDF,fsDF = run_train(eps_=ep,\n",
    "                             min_samples_=minPt,\n",
    "                             E=5.0, \n",
    "                             kmodel=kmodel,\n",
    "                             chunk_size=n,\n",
    "                             \n",
    "                             rd_threshold=0.5,\n",
    "                             alpha=a,\n",
    "                             \n",
    "                             adapt=True\n",
    "                            )\n",
    "    \n",
    "    print('alpha:', a,'\\t',tprDF.ED_TPR.mean(),'\\t',fprDF.ED_FPR.mean(),'\\t',fsDF.ED.mean())\n",
    "    dic_alpha[a] = (tprDF.ED_TPR.mean(),fprDF.ED_FPR.mean())\n",
    "    \n",
    "print(dic_alpha)\n"
   ]
  },
  {
   "cell_type": "code",
   "execution_count": 63,
   "metadata": {},
   "outputs": [
    {
     "name": "stdout",
     "output_type": "stream",
     "text": [
      "-- tau1: 0\n",
      "0\n",
      "e: 2 \t 0.982158412037 \t 0.231375213735 \t 0.507759323789\n",
      "0\n",
      "e: 4 \t 0.982158412037 \t 0.226544707939 \t 0.512880685749\n",
      "0\n",
      "e: 6 \t 0.978493529291 \t 0.20789211134 \t 0.532645417734\n",
      "0\n",
      "e: 8 \t 0.966552531657 \t 0.157542389624 \t 0.594533759888\n",
      "0\n",
      "e: 10 \t 0.943610510739 \t 0.123108891834 \t 0.639733776053\n",
      "0\n",
      "e: 12 \t 0.920388170216 \t 0.0934525071402 \t 0.685387217524\n",
      "-- tau1: 1\n",
      "0\n",
      "e: 2 \t 0.981727377554 \t 0.224017984838 \t 0.515480601487\n",
      "0\n",
      "e: 4 \t 0.978963797923 \t 0.20391144419 \t 0.537658667948\n",
      "0\n",
      "e: 6 \t 0.970948949566 \t 0.162996986284 \t 0.588556671521\n",
      "0\n",
      "e: 8 \t 0.944525196499 \t 0.123784652615 \t 0.638953085494\n",
      "0\n",
      "e: 10 \t 0.921093516387 \t 0.093853569771 \t 0.685176807164\n",
      "0\n",
      "e: 12 \t 0.895071772006 \t 0.0771192012404 \t 0.708344595493\n",
      "-- tau1: 2\n",
      "0\n",
      "e: 2 \t 0.980872614258 \t 0.211389098551 \t 0.529495933705\n",
      "0\n",
      "e: 4 \t 0.960435243449 \t 0.162448487817 \t 0.584659047604\n",
      "0\n",
      "e: 6 \t 0.950875111081 \t 0.140673972698 \t 0.61375955971\n",
      "0\n",
      "e: 8 \t 0.920968261348 \t 0.0922815563189 \t 0.68810353557\n",
      "0\n",
      "e: 10 \t 0.874725587488 \t 0.0765702654813 \t 0.699391924141\n",
      "0\n",
      "e: 12 \t 0.867919464118 \t 0.0653481050215 \t 0.722100707967\n",
      "-- tau1: 3\n",
      "0\n",
      "e: 2 \t 0.97060958653 \t 0.180900025404 \t 0.563028735177\n",
      "0\n",
      "e: 4 \t 0.92800288187 \t 0.131912054193 \t 0.617576538602\n",
      "0\n",
      "e: 6 \t 0.925015929074 \t 0.117539832267 \t 0.641118991982\n",
      "0\n",
      "e: 8 \t 0.909032780777 \t 0.0783782733074 \t 0.712732197403\n",
      "0\n",
      "e: 10 \t 0.865293472498 \t 0.0633802049823 \t 0.725575396378\n",
      "0\n",
      "e: 12 \t 0.858293607315 \t 0.0548451984547 \t 0.743315763983\n",
      "-- tau1: 4\n",
      "0\n",
      "e: 2 \t 0.580604346232 \t 0.115225525565 \t 0.440135419111\n",
      "0\n",
      "e: 4 \t 0.580604346232 \t 0.115225525565 \t 0.440135419111\n",
      "0\n",
      "e: 6 \t 0.301652921083 \t 0.0855753378057 \t 0.300628122024\n",
      "0\n",
      "e: 8 \t 0.262081811542 \t 0.0637194799332 \t 0.292851716099\n",
      "0\n",
      "e: 10 \t 0.256466190804 \t 0.0520366110644 \t 0.303554664128\n",
      "0\n",
      "e: 12 \t 0.25237246257 \t 0.0483352733958 \t 0.304928750021\n"
     ]
    }
   ],
   "source": [
    "eps_ed = [2,4,6,8,10,12]\n",
    "tau1_ = [0,1,2,3,4]\n",
    "\n",
    "kmodel = MiniBatchKMeans(n_clusters=4,random_state=10, init='k-means++')\n",
    "\n",
    "\n",
    "for t in tau1_:\n",
    "    print ('-- tau1:', t)\n",
    "    for e in eps_ed:\n",
    "        tprDF,fprDF,precisionDF,fsDF = run_train(eps_=ep,\n",
    "                                 min_samples_=minPt,\n",
    "                                 E=e, \n",
    "                                 kmodel=kmodel,\n",
    "                                 chunk_size=n,\n",
    "                                 tau1=t,\n",
    "                                 rd_threshold=0.5,\n",
    "                                 alpha=1.0,\n",
    "                                 tau2=e,\n",
    "                                 adapt=True,\n",
    "                                 fw = False\n",
    "                                )\n",
    "        print('e:', e,'\\t',tprDF.TE_TPR.mean(),'\\t',fprDF.TE_FPR.mean(),'\\t',fsDF.TE.mean())\n",
    "    "
   ]
  },
  {
   "cell_type": "code",
   "execution_count": 64,
   "metadata": {},
   "outputs": [
    {
     "name": "stdout",
     "output_type": "stream",
     "text": [
      "-- tau1: 3\n",
      "2323\n",
      "tau2: 3 \t 0.97060958653 \t 0.0633802049823 \t 0.779876935413\n",
      "1126\n",
      "tau2: 5 \t 0.925432595741 \t 0.0633802049823 \t 0.757075120715\n",
      "690\n",
      "tau2: 7 \t 0.912618231892 \t 0.0633802049823 \t 0.750513200471\n",
      "155\n",
      "tau2: 9 \t 0.905374984608 \t 0.0633802049823 \t 0.74673291396\n",
      "0\n",
      "tau2: 11 \t 0.865293472498 \t 0.0633802049823 \t 0.725575396378\n"
     ]
    }
   ],
   "source": [
    "tau1_ = [3]\n",
    "\n",
    "tau2_ = [0,2,4,6,8]\n",
    "\n",
    "\n",
    "kmodel = MiniBatchKMeans(n_clusters=4,random_state=10, init='k-means++')\n",
    "\n",
    "t2_tpr = []\n",
    "t2_fpr = []\n",
    "t2_indice = []\n",
    "\n",
    "for t1 in tau1_:\n",
    "    print ('-- tau1:', t1)\n",
    "    for t2 in tau2_:\n",
    "        tprDF,fprDF,precisionDF,fsDF = run_train(eps_=ep,\n",
    "                                 min_samples_=minPt,\n",
    "                                 E=10, \n",
    "                                 kmodel=kmodel,\n",
    "                                 chunk_size=500,\n",
    "                                 tau1=t1,\n",
    "                                 rd_threshold=0.5,\n",
    "                                 alpha=1.0,\n",
    "                                 tau2=(t1+t2),\n",
    "                                 adapt=True,\n",
    "                                 fw = True\n",
    "                                )\n",
    "        print('tau2:', t1+t2,'\\t',tprDF.TE_TPR.mean(),'\\t',fprDF.TE_FPR.mean(),'\\t',fsDF.TE.mean())\n",
    "        t2_tpr.append(tprDF.TE_TPR.mean())\n",
    "        t2_fpr.append(fprDF.TE_FPR.mean())\n",
    "        t2_indice.append(t1+t2)"
   ]
  },
  {
   "cell_type": "code",
   "execution_count": 65,
   "metadata": {},
   "outputs": [
    {
     "data": {
      "image/png": "[encoded data removed]",
      "text/plain": [
       "<matplotlib.figure.Figure at 0x7f7595ea5be0>"
      ]
     },
     "metadata": {},
     "output_type": "display_data"
    }
   ],
   "source": [
    "plt.ylabel('TPR')\n",
    "plt.xlabel('Valor de tau2')\n",
    "plt.title('Impacto do parâmetro tau2')\n",
    "\n",
    "\n",
    "plt.plot(t2_indice,t2_tpr)\n",
    "plt.plot(t2_indice,t2_fpr)\n",
    "\n",
    "plt.legend(loc=4)\n",
    "\n",
    "plt.show()"
   ]
  },
  {
   "cell_type": "code",
   "execution_count": null,
   "metadata": {},
   "outputs": [],
   "source": [
    "kmodel = MiniBatchKMeans(n_clusters=4,random_state=10, init='k-means++')\n",
    "\n",
    "tprDF,fprDF,precisionDF,fsDF = run_train(eps_=ep,\n",
    "                                         min_samples_=minPt,\n",
    "                                         E=10, \n",
    "                                         kmodel=kmodel,\n",
    "                                         chunk_size=n,\n",
    "                                         tau1=0.7,\n",
    "                                         rd_threshold=0.5,\n",
    "                                         alpha=0.5,\n",
    "                                         tau2=0.7                         \n",
    "                                        )\n",
    "\n",
    "print(tprDF.DB_TPR.mean(), '\\t', fprDF.DB_FPR.mean(),'\\t', fsDF.DB.mean())\n",
    "print(tprDF.ED_TPR.mean(), '\\t', fprDF.ED_FPR.mean(),'\\t', fsDF.ED.mean())\n",
    "print(tprDF.TE_TPR.mean(), '\\t', fprDF.TE_FPR.mean(),'\\t', fsDF.TE.mean())\n",
    "print(tprDF.SVM_TPR.mean(), '\\t', fprDF.SVM_FPR.mean(),'\\t', fsDF.SVM.mean())"
   ]
  },
  {
   "cell_type": "code",
   "execution_count": null,
   "metadata": {},
   "outputs": [],
   "source": [
    "kmodel = MiniBatchKMeans(n_clusters=4,random_state=10, init='k-means++')\n",
    "\n",
    "tprDF,fprDF = run_train(eps_=0.8,\n",
    "                         min_samples_=100,\n",
    "                         E=1.0, \n",
    "                         kmodel=kmodel,\n",
    "                         chunk_size=500,\n",
    "                         tau1=0.7,\n",
    "                         rd_threshold=0.5,\n",
    "                         alpha=1.0,\n",
    "                         tau2=0.7                         \n",
    "                        )\n",
    "\n",
    "print(tprDF.DB_TPR.mean(), '\\t', fprDF.DB_FPR.mean())\n",
    "print(tprDF.ED_TPR.mean(), '\\t', fprDF.ED_FPR.mean())\n",
    "print(tprDF.TE_TPR.mean(), '\\t', fprDF.TE_FPR.mean())\n",
    "print(tprDF.SVM_TPR.mean(), '\\t', fprDF.SVM_FPR.mean())"
   ]
  },
  {
   "cell_type": "code",
   "execution_count": null,
   "metadata": {
    "scrolled": true
   },
   "outputs": [],
   "source": [
    "tprDF.plot(title='Teste')"
   ]
  },
  {
   "cell_type": "code",
   "execution_count": null,
   "metadata": {},
   "outputs": [],
   "source": [
    "fprDF.plot()"
   ]
  },
  {
   "cell_type": "code",
   "execution_count": null,
   "metadata": {},
   "outputs": [],
   "source": []
  },
  {
   "cell_type": "code",
   "execution_count": null,
   "metadata": {
    "collapsed": true
   },
   "outputs": [],
   "source": []
  },
  {
   "cell_type": "code",
   "execution_count": null,
   "metadata": {},
   "outputs": [],
   "source": [
    "#variance = anomaly.groupby('KMcluster')['KM_ED'].std()\n",
    "#density = []\n",
    "\n",
    "#for k in range(0, n_clusters_):\n",
    "        \n",
    "#    density.append((anomaly[anomaly.KMcluster == k]['KM_ED']).apply(lambda x: math.exp(-x**2/(2*(variance[k]**2)))).sum())\n",
    "    \n",
    "#total = anomaly.groupby('KMcluster')['KM_ED'].count()\n",
    "\n",
    "#print(density / total)"
   ]
  },
  {
   "cell_type": "code",
   "execution_count": null,
   "metadata": {},
   "outputs": [],
   "source": [
    "#density / total"
   ]
  },
  {
   "cell_type": "code",
   "execution_count": null,
   "metadata": {},
   "outputs": [],
   "source": [
    "#KM_limiar"
   ]
  },
  {
   "cell_type": "code",
   "execution_count": null,
   "metadata": {},
   "outputs": [],
   "source": [
    "#test = anomaly.groupby(('KMcluster','label')).describe()['KM_ED']"
   ]
  },
  {
   "cell_type": "code",
   "execution_count": null,
   "metadata": {
    "collapsed": true
   },
   "outputs": [],
   "source": []
  },
  {
   "cell_type": "code",
   "execution_count": 19,
   "metadata": {},
   "outputs": [],
   "source": [
    "nsl10LOF = pd.read_csv(filepath_or_buffer='./dados/KDDTrain10k-LOF.csv', \\\n",
    "                 header=0)"
   ]
  },
  {
   "cell_type": "code",
   "execution_count": null,
   "metadata": {
    "collapsed": true
   },
   "outputs": [],
   "source": []
  }
 ],
 "metadata": {
  "kernelspec": {
   "display_name": "Python 3",
   "language": "python",
   "name": "python3"
  },
  "language_info": {
   "codemirror_mode": {
    "name": "ipython",
    "version": 3
   },
   "file_extension": ".py",
   "mimetype": "text/x-python",
   "name": "python",
   "nbconvert_exporter": "python",
   "pygments_lexer": "ipython3",
   "version": "3.7.3"
  }
 },
 "nbformat": 4,
 "nbformat_minor": 1
}
